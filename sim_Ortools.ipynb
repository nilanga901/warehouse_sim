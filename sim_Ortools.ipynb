{
 "cells": [
  {
   "cell_type": "code",
   "execution_count": 27,
   "metadata": {},
   "outputs": [],
   "source": [
    "import matplotlib.pyplot as plt\n",
    "from ortools.sat.python import cp_model\n"
   ]
  },
  {
   "cell_type": "code",
   "execution_count": 28,
   "metadata": {},
   "outputs": [
    {
     "name": "stdout",
     "output_type": "stream",
     "text": [
      "[(4, 4), (4, 5), (4, 6), (4, 7), (4, 8), (4, 9), (4, 10), (4, 11), (4, 12), (4, 13), (6, 4), (6, 5), (6, 6), (6, 7), (6, 8), (6, 9), (6, 10), (6, 11), (6, 12), (6, 13), (8, 4), (8, 5), (8, 6), (8, 7), (8, 8), (8, 9), (8, 10), (8, 11), (8, 12), (8, 13), (10, 4), (10, 5), (10, 6), (10, 7), (10, 8), (10, 9), (10, 10), (10, 11), (10, 12), (10, 13)]\n"
     ]
    }
   ],
   "source": [
    "# Create the warehouse environment\n",
    "warehouse = []\n",
    "\n",
    "for i in range(4):\n",
    "    for j in range(10):\n",
    "        warehouse.append((2*i+1+3, j+4))\n",
    "\n",
    "# Print the list of coordinates\n",
    "print(warehouse)\n",
    "drone=(0,0)"
   ]
  },
  {
   "cell_type": "code",
   "execution_count": 29,
   "metadata": {},
   "outputs": [
    {
     "data": {
      "image/png": "[encoded data removed]",
      "text/plain": [
       "<Figure size 1000x600 with 1 Axes>"
      ]
     },
     "metadata": {},
     "output_type": "display_data"
    }
   ],
   "source": [
    "# Plot the warehouse environment and drone's path\n",
    "fig, ax = plt.subplots(figsize=(10, 6))\n",
    "# Plot the coordinates\n",
    "for x, y in warehouse:\n",
    "    ax.plot(x, y, 'rs', markersize=10)\n",
    "\n",
    "ax.plot(drone[0], drone[1], 'bo', markersize=10)\n",
    "\n",
    "plt.show()\n",
    "ax.set_aspect('equal')\n"
   ]
  },
  {
   "cell_type": "code",
   "execution_count": 33,
   "metadata": {},
   "outputs": [
    {
     "ename": "AttributeError",
     "evalue": "'CpModel' object has no attribute 'NumConstraints'",
     "output_type": "error",
     "traceback": [
      "\u001b[1;31m---------------------------------------------------------------------------\u001b[0m",
      "\u001b[1;31mAttributeError\u001b[0m                            Traceback (most recent call last)",
      "Cell \u001b[1;32mIn[33], line 22\u001b[0m\n\u001b[0;32m     18\u001b[0m model\u001b[38;5;241m.\u001b[39mAdd(PGy[\u001b[38;5;241m0\u001b[39m]\u001b[38;5;241m==\u001b[39m\u001b[38;5;241m0\u001b[39m)\n\u001b[0;32m     19\u001b[0m model\u001b[38;5;241m.\u001b[39mAdd(Bat[\u001b[38;5;241m0\u001b[39m]\u001b[38;5;241m==\u001b[39mbmax)\n\u001b[1;32m---> 22\u001b[0m \u001b[38;5;28mprint\u001b[39m(\u001b[38;5;124m\"\u001b[39m\u001b[38;5;124mNumber of constraints =\u001b[39m\u001b[38;5;124m\"\u001b[39m, \u001b[43mmodel\u001b[49m\u001b[38;5;241;43m.\u001b[39;49m\u001b[43mNumConstraints\u001b[49m())\n\u001b[0;32m     25\u001b[0m \u001b[38;5;66;03m#motion and recharge\u001b[39;00m\n\u001b[0;32m     27\u001b[0m \u001b[38;5;28;01mfor\u001b[39;00m k \u001b[38;5;129;01min\u001b[39;00m \u001b[38;5;28mrange\u001b[39m(\u001b[38;5;241m1\u001b[39m,timesteps):\n",
      "\u001b[1;31mAttributeError\u001b[0m: 'CpModel' object has no attribute 'NumConstraints'"
     ]
    }
   ],
   "source": [
    "# Create the mip solver with the SCIP backend.\n",
    "model = cp_model.CpModel()\n",
    "\n",
    "# Define variables\n",
    "timesteps = 80\n",
    "bmax = 100\n",
    "gridx = 10\n",
    "gridy = 13\n",
    "\n",
    "PGx = [model.new_int_var(0, gridx, f'pgx_{i}') for i in range(timesteps)]\n",
    "PGy = [model.new_int_var(0, gridy, f'pgy_{i}') for i in range(timesteps)]\n",
    "Bat = [model.new_int_var(1, bmax, f'bat_{i}') for i in range(timesteps)]\n",
    "\n",
    "\n",
    "\n",
    "#initial\n",
    "model.Add(PGx[0]==0)\n",
    "model.Add(PGy[0]==0)\n",
    "model.Add(Bat[0]==bmax)\n",
    "\n",
    "\n",
    "#motion and recharge\n",
    "\n",
    "for k in range(1,timesteps):\n",
    "    model.AddBoolOr(PGx[k]==PGx[k-1]+1,PGx[k]==PGx[k-1]-1,PGx[k]==PGx[k-1])\n",
    "    model.AddBoolOr(PGy[k]==PGy[k-1]+1,PGy[k]==PGy[k-1]-1,PGy[k]==PGy[k-1])\n",
    "\n",
    "    ss.add(Implies(Or(And(PGx[k]==PGx[k-1]+1,PGy[k]==PGy[k-1]+1,Not(PGx[k]==0),Not(PGy[k]==0)),And(PGx[k]==PGx[k-1]-1,PGy[k]==PGy[k-1]-1),Not(PGx[k]==0),Not(PGy[k]==0)),Bat[k]==Bat[k-1]-3))\n",
    "    ss.add(Implies(Or(And(PGx[k]==PGx[k-1]+1,PGy[k]==PGy[k-1]-1,Not(PGx[k]==0),Not(PGy[k]==0)),And(PGx[k]==PGx[k-1]-1,PGy[k]==PGy[k-1]+1,Not(PGx[k]==0),Not(PGy[k]==0))),Bat[k]==Bat[k-1]-3))\n",
    "    ss.add(Implies(Or(And(PGx[k]==PGx[k-1]+1,PGy[k]==PGy[k-1],Not(PGx[k]==0),Not(PGy[k]==0)),And(PGx[k]==PGx[k-1]-1,PGy[k]==PGy[k-1],Not(PGx[k]==0),Not(PGy[k]==0))),Bat[k]==Bat[k-1]-2))\n",
    "    ss.add(Implies(Or(And(PGx[k]==PGx[k-1],PGy[k]==PGy[k-1]-1),And(PGx[k]==PGx[k-1],PGy[k]==PGy[k-1]+1)),Bat[k]==Bat[k-1]-2))\n",
    "    ss.add(Implies(And(PGx[k]==PGx[k-1],PGy[k]==PGy[k-1],Not(PGx[k]==0),Not(PGy[k]==0)),Bat[k]==Bat[k-1]))\n",
    "    ss.add(Implies(And(PGx[k]==0,PGy[k]==0),Bat[k]==bmax))\n",
    "\n",
    "\n",
    "\n",
    "#task\n",
    "for x, y in warehouse:\n",
    "    con=[]\n",
    "    for k in range(timesteps):\n",
    "        con.append(And(PGx[k]==x,PGy[k]==y))\n",
    "    ss.add(Or(con))\n",
    "\n",
    "\n",
    "print(ss.check()   )\n",
    "a=ss.model()\n",
    "\n",
    "\n",
    "\n"
   ]
  },
  {
   "cell_type": "code",
   "execution_count": null,
   "metadata": {},
   "outputs": [
    {
     "data": {
      "text/plain": [
       "<bound method Solver.constraint of <ortools.linear_solver.pywraplp.Solver; proxy of <Swig Object of type 'operations_research::MPSolver *' at 0x00000251DB727840> >>"
      ]
     },
     "execution_count": 26,
     "metadata": {},
     "output_type": "execute_result"
    }
   ],
   "source": []
  }
 ],
 "metadata": {
  "kernelspec": {
   "display_name": "Python 3",
   "language": "python",
   "name": "python3"
  },
  "language_info": {
   "codemirror_mode": {
    "name": "ipython",
    "version": 3
   },
   "file_extension": ".py",
   "mimetype": "text/x-python",
   "name": "python",
   "nbconvert_exporter": "python",
   "pygments_lexer": "ipython3",
   "version": "3.11.8"
  }
 },
 "nbformat": 4,
 "nbformat_minor": 2
}
