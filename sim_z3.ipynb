{
 "cells": [
  {
   "cell_type": "code",
   "execution_count": 5,
   "metadata": {},
   "outputs": [],
   "source": [
    "import matplotlib.pyplot as plt\n",
    "\n",
    "from z3 import *\n",
    "import numpy as np\n",
    "\n",
    "\n",
    "def z3max(x,y):\n",
    "    return If((x)>y,x,y)\n",
    "def z3min(x,y):\n",
    "    return If(x<y,x,y)\n"
   ]
  },
  {
   "cell_type": "code",
   "execution_count": 6,
   "metadata": {},
   "outputs": [
    {
     "name": "stdout",
     "output_type": "stream",
     "text": [
      "[(3, 1), (3, 2), (3, 3), (3, 4), (3, 5), (3, 6), (3, 7), (3, 8), (3, 9), (3, 10), (5, 1), (5, 2), (5, 3), (5, 4), (5, 5), (5, 6), (5, 7), (5, 8), (5, 9), (5, 10), (7, 1), (7, 2), (7, 3), (7, 4), (7, 5), (7, 6), (7, 7), (7, 8), (7, 9), (7, 10), (9, 1), (9, 2), (9, 3), (9, 4), (9, 5), (9, 6), (9, 7), (9, 8), (9, 9), (9, 10)]\n"
     ]
    }
   ],
   "source": [
    "# Create the warehouse environment\n",
    "warehouse = []\n",
    "\n",
    "for i in range(4):\n",
    "    for j in range(10):\n",
    "        warehouse.append((2*i+1+2, j+1))\n",
    "\n",
    "# Print the list of coordinates\n",
    "print(warehouse)\n",
    "drone=(0,0)"
   ]
  },
  {
   "cell_type": "code",
   "execution_count": 7,
   "metadata": {},
   "outputs": [
    {
     "data": {
      "image/png": "[encoded data removed]",
      "text/plain": [
       "<Figure size 1000x600 with 1 Axes>"
      ]
     },
     "metadata": {},
     "output_type": "display_data"
    }
   ],
   "source": [
    "# Plot the warehouse environment and drone's path\n",
    "fig, ax = plt.subplots(figsize=(10, 6))\n",
    "# Plot the coordinates\n",
    "for x, y in warehouse:\n",
    "    ax.plot(x, y, 'rs', markersize=10)\n",
    "\n",
    "ax.plot(drone[0], drone[1], 'bo', markersize=10)\n",
    "\n",
    "plt.show()\n",
    "ax.set_aspect('equal')\n"
   ]
  },
  {
   "cell_type": "code",
   "execution_count": 8,
   "metadata": {},
   "outputs": [],
   "source": [
    "# ss = Optimize()\n",
    "ss = Solver()\n",
    "\n",
    "timesteps=100\n",
    "bmax=100\n",
    "gridx= 9\n",
    "gridy=10\n",
    "\n",
    "\n",
    "#vars\n",
    "PGx=IntVector('pgx',timesteps)\n",
    "PGy=IntVector('pgy',timesteps)\n",
    "Bat=IntVector('bat',timesteps)\n",
    "\n",
    "#lims\n",
    "con=[And(1<=b,b<=bmax) for b in Bat]\n",
    "ss.add(con)\n",
    "\n",
    "con=[And(0<=x,x<=gridx) for x in PGx]\n",
    "ss.add(con)\n",
    "\n",
    "con=[And(0<=y,y<=gridy) for y in PGy]\n",
    "ss.add(con)\n",
    "\n",
    "#initial\n",
    "ss.add(PGx[0]==0)\n",
    "ss.add(PGy[0]==0)\n",
    "ss.add(Bat[0]==bmax)\n",
    "\n",
    "#motion and recharge\n",
    "\n",
    "for k in range(1,timesteps):\n",
    "    ss.add(Or(PGx[k]==PGx[k-1]+1,PGx[k]==PGx[k-1]-1,PGx[k]==PGx[k-1]))\n",
    "    ss.add(Or(PGy[k]==PGy[k-1]+1,PGy[k]==PGy[k-1]-1,PGy[k]==PGy[k-1]))\n",
    "\n",
    "    ss.add(Implies(Or(And(PGx[k]==PGx[k-1]+1,PGy[k]==PGy[k-1]+1,Not(PGx[k]==0),Not(PGy[k]==0)),And(PGx[k]==PGx[k-1]-1,PGy[k]==PGy[k-1]-1),Not(PGx[k]==0),Not(PGy[k]==0)),Bat[k]==Bat[k-1]-3))\n",
    "    ss.add(Implies(Or(And(PGx[k]==PGx[k-1]+1,PGy[k]==PGy[k-1]-1,Not(PGx[k]==0),Not(PGy[k]==0)),And(PGx[k]==PGx[k-1]-1,PGy[k]==PGy[k-1]+1,Not(PGx[k]==0),Not(PGy[k]==0))),Bat[k]==Bat[k-1]-3))\n",
    "    ss.add(Implies(Or(And(PGx[k]==PGx[k-1]+1,PGy[k]==PGy[k-1],Not(PGx[k]==0),Not(PGy[k]==0)),And(PGx[k]==PGx[k-1]-1,PGy[k]==PGy[k-1],Not(PGx[k]==0),Not(PGy[k]==0))),Bat[k]==Bat[k-1]-2))\n",
    "    ss.add(Implies(Or(And(PGx[k]==PGx[k-1],PGy[k]==PGy[k-1]-1),And(PGx[k]==PGx[k-1],PGy[k]==PGy[k-1]+1)),Bat[k]==Bat[k-1]-2))\n",
    "    ss.add(Implies(And(PGx[k]==PGx[k-1],PGy[k]==PGy[k-1],Not(PGx[k]==0),Not(PGy[k]==0)),Bat[k]==Bat[k-1]))\n",
    "    ss.add(Implies(And(PGx[k]==0,PGy[k]==0),Bat[k]==bmax))\n",
    "\n",
    "\n",
    "#task\n",
    "for x, y in warehouse:\n",
    "    con=[]\n",
    "    for k in range(timesteps):\n",
    "        con.append(And(PGx[k]==x,PGy[k]==y))\n",
    "    ss.add(Or(con))\n",
    "\n",
    "\n",
    "print(ss.check()   )\n",
    "a=ss.model()\n"
   ]
  }
 ],
 "metadata": {
  "kernelspec": {
   "display_name": "Python 3",
   "language": "python",
   "name": "python3"
  },
  "language_info": {
   "codemirror_mode": {
    "name": "ipython",
    "version": 3
   },
   "file_extension": ".py",
   "mimetype": "text/x-python",
   "name": "python",
   "nbconvert_exporter": "python",
   "pygments_lexer": "ipython3",
   "version": "3.11.8"
  }
 },
 "nbformat": 4,
 "nbformat_minor": 2
}
